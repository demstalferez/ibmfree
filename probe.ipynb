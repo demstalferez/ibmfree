{
 "cells": [
  {
   "attachments": {},
   "cell_type": "markdown",
   "metadata": {},
   "source": [
    "<h1>My Jupyter Notebook on IBM Watson Studi</h1>"
   ]
  },
  {
   "attachments": {},
   "cell_type": "markdown",
   "metadata": {},
   "source": [
    "**Demetrio** </br>\n",
    "Data scientist"
   ]
  },
  {
   "attachments": {},
   "cell_type": "markdown",
   "metadata": {},
   "source": [
    "*I'm interested in data science because I want to transform data heavy industry to intelligent industry.* "
   ]
  },
  {
   "attachments": {},
   "cell_type": "markdown",
   "metadata": {},
   "source": [
    "<h3> Function to multiciply number for self  </h3>"
   ]
  },
  {
   "cell_type": "code",
   "execution_count": 9,
   "metadata": {},
   "outputs": [
    {
     "data": {
      "text/plain": [
       "9"
      ]
     },
     "execution_count": 9,
     "metadata": {},
     "output_type": "execute_result"
    }
   ],
   "source": [
    "def m_number (number):\n",
    "    res = number * number\n",
    "    return res\n",
    "\n",
    "m_number (3)"
   ]
  },
  {
   "attachments": {},
   "cell_type": "markdown",
   "metadata": {},
   "source": [
    "<img src=\"https://album.mediaset.es/eimg/10000/2020/09/14/clipping_0D8Xwg_27cb.jpg?w=1200\" height=\"300\" width=\"400\"> \n",
    "</br>\n",
    "\n",
    "* Bulleted list \n",
    "  * Sub-item \n",
    "  * Sub-item \n",
    "1. Numbered list \n",
    "2. Numbered list \n",
    "   1. Sub-item \n",
    "   2. Sub-item \n",
    "\n",
    "   </br>\n",
    "\n",
    "| Tables   |      Are      |  Cool |\n",
    "|----------|:-------------:|------:|\n",
    "| col 1    |  left-aligned |  $100 |\n",
    "| col 2    |    centered   |   $10 |\n",
    "| col 3    | right-aligned |    $1 |\n",
    "\n",
    "</br>\n",
    "\n",
    "[Hyperlink](https://github.com/demstalferez)\n"
   ]
  }
 ],
 "metadata": {
  "kernelspec": {
   "display_name": "Python 3",
   "language": "python",
   "name": "python3"
  },
  "language_info": {
   "codemirror_mode": {
    "name": "ipython",
    "version": 3
   },
   "file_extension": ".py",
   "mimetype": "text/x-python",
   "name": "python",
   "nbconvert_exporter": "python",
   "pygments_lexer": "ipython3",
   "version": "3.10.6"
  },
  "orig_nbformat": 4,
  "vscode": {
   "interpreter": {
    "hash": "916dbcbb3f70747c44a77c7bcd40155683ae19c65e1c03b4aa3499c5328201f1"
   }
  }
 },
 "nbformat": 4,
 "nbformat_minor": 2
}
